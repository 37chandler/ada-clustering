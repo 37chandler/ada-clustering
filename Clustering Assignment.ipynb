{
 "cells": [
  {
   "cell_type": "markdown",
   "id": "46150cee",
   "metadata": {},
   "source": [
    "This assignment asks you to cluster data from a credit union in Washington. This data was gathered by survey. I've included a pretty full description of the data as an appendix down below. \n",
    "\n",
    "In class we used code from _Data Science From Scratch_ to cluster, but it's more traditional to use the [`Kmeans` function](https://scikit-learn.org/stable/modules/generated/sklearn.cluster.KMeans.html) from `scikit-learn`. I'll show you a brief example of that with the survey data from class, then I ask you to do your own clustering.\n",
    "\n",
    "### Clustering Class Survey Data\n",
    "\n",
    "In class we surveyed students from the MSBA and put them into groups. We'll repeat that work here. \n"
   ]
  },
  {
   "cell_type": "code",
   "execution_count": null,
   "id": "2e2cab56",
   "metadata": {},
   "outputs": [],
   "source": [
    "import pandas as pd\n",
    "import numpy as np\n",
    "from matplotlib import pyplot as plt\n",
    "from sklearn.cluster import KMeans"
   ]
  },
  {
   "cell_type": "code",
   "execution_count": null,
   "id": "99b26b55",
   "metadata": {},
   "outputs": [],
   "source": [
    "example_data = pd.read_csv(\"survey_responses.txt\",sep=\"\\t\")"
   ]
  },
  {
   "cell_type": "code",
   "execution_count": null,
   "id": "34084471",
   "metadata": {},
   "outputs": [],
   "source": [
    "example_data"
   ]
  },
  {
   "cell_type": "markdown",
   "id": "b917a634",
   "metadata": {},
   "source": [
    "As in class, let's convert the data to numeric and we'll do some renaming as well. "
   ]
  },
  {
   "cell_type": "code",
   "execution_count": null,
   "id": "d3d5c914",
   "metadata": {},
   "outputs": [],
   "source": [
    "current_names = example_data.columns\n",
    "new_names = \"timestamp name birth_dist age_15_dist school_years ug_mkt ug_biz hh_size\".split()"
   ]
  },
  {
   "cell_type": "code",
   "execution_count": null,
   "id": "fcb0a343",
   "metadata": {},
   "outputs": [],
   "source": [
    "example_data = example_data.rename(columns = dict(zip(current_names,new_names)))"
   ]
  },
  {
   "cell_type": "code",
   "execution_count": null,
   "id": "33f2d918",
   "metadata": {},
   "outputs": [],
   "source": [
    "# df.MySeriesName.map(dict(yes=1, no=0))\n",
    "example_data.ug_mkt = example_data.ug_mkt.map(dict(Yes=1,No=0))\n",
    "example_data.ug_biz = example_data.ug_biz.map(dict(Yes=1,No=0))\n"
   ]
  },
  {
   "cell_type": "code",
   "execution_count": null,
   "id": "979a6cb0",
   "metadata": {},
   "outputs": [],
   "source": [
    "example_data"
   ]
  },
  {
   "cell_type": "code",
   "execution_count": null,
   "id": "2af4d8f9",
   "metadata": {},
   "outputs": [],
   "source": [
    "numeric_cols = \"birth_dist age_15_dist school_years ug_mkt ug_biz hh_size\".split()\n"
   ]
  },
  {
   "cell_type": "code",
   "execution_count": null,
   "id": "67347522",
   "metadata": {},
   "outputs": [],
   "source": [
    "num_example_data = example_data.loc[:,numeric_cols]"
   ]
  },
  {
   "cell_type": "code",
   "execution_count": null,
   "id": "e3e2d795",
   "metadata": {},
   "outputs": [],
   "source": [
    "\n",
    "example_normalized =(num_example_data -num_example_data.min())/(num_example_data.max()-num_example_data.min())"
   ]
  },
  {
   "cell_type": "code",
   "execution_count": null,
   "id": "b5208017",
   "metadata": {},
   "outputs": [],
   "source": [
    "example_normalized"
   ]
  },
  {
   "cell_type": "markdown",
   "id": "a3aaf227",
   "metadata": {},
   "source": [
    "Let's set up our K-Means model. Some of the below code is adapted from "
   ]
  },
  {
   "cell_type": "code",
   "execution_count": null,
   "id": "b03b1a61",
   "metadata": {},
   "outputs": [],
   "source": [
    "km = KMeans(\n",
    "    n_clusters=3, init='random',\n",
    "    n_init=10, max_iter=300, \n",
    "    tol=1e-04, random_state=0\n",
    ")\n"
   ]
  },
  {
   "cell_type": "code",
   "execution_count": null,
   "id": "95473527",
   "metadata": {},
   "outputs": [],
   "source": [
    "clustering = km.fit_predict(example_normalized)"
   ]
  },
  {
   "cell_type": "code",
   "execution_count": null,
   "id": "b31bc2b4",
   "metadata": {},
   "outputs": [],
   "source": [
    "example_data['cluster'] = clustering"
   ]
  },
  {
   "cell_type": "code",
   "execution_count": null,
   "id": "483485b3",
   "metadata": {},
   "outputs": [],
   "source": [
    "for cluster in set(clustering) :\n",
    "    print(f'Printing Results for Cluster {cluster}.\\n\\n')\n",
    "    \n",
    "    print(example_data.query(f\"cluster == {cluster}\"))\n",
    "    \n",
    "    print(\"\\n\\n\")\n",
    "    "
   ]
  },
  {
   "cell_type": "markdown",
   "id": "ff5b83dc",
   "metadata": {},
   "source": [
    "There's much more we could do here, such as printing out the cluster means. With this current scaling approach it appears that we're basically splitting into UG degrees. It might be more interesting to normalize by subtracting the mean of the column and dividing by the standard deviation. \n",
    "\n",
    "## Demographic Clustering\n",
    "\n",
    "In this section, perform a cluster analysis using the fields unrelated to the values survey:\n",
    "\n",
    "* age\n",
    "* gender\n",
    "* engagement\n",
    "* account.age\n",
    "\n",
    "Choose a number of clusters and use K-means to cluster the data using these fields. Briefly describe the clusters. How evenly do your clusters align with the regions?"
   ]
  },
  {
   "cell_type": "code",
   "execution_count": null,
   "id": "e97f5e78",
   "metadata": {},
   "outputs": [],
   "source": [
    "# Your work here"
   ]
  },
  {
   "cell_type": "markdown",
   "id": "814d4d12",
   "metadata": {},
   "source": [
    "## Values Clustering\n",
    "\n",
    "Similarly to the previous section, perform a cluster analysis, this time on the values questions:\n",
    "\n",
    "* fair\n",
    "* harm\n",
    "* in.group\n",
    "* authority\n",
    "* purity\n",
    "* public.sector\n",
    "* sustainability\n",
    "* localism\n",
    "\n",
    "After you’ve built your clusters, report the following information on each cluster:\n",
    "\n",
    "* Predominant region\n",
    "* Average age and account age\n",
    "* Most common focal value\n",
    "* Mean results on the questions of `pub.greater.priv`, `experience.more.important`, and `teachers.underpaid`. "
   ]
  },
  {
   "cell_type": "code",
   "execution_count": null,
   "id": "858176dc",
   "metadata": {},
   "outputs": [],
   "source": [
    "# your work here"
   ]
  },
  {
   "cell_type": "markdown",
   "id": "ac962965",
   "metadata": {},
   "source": [
    "##  Appendix: Full Data Description\n",
    "A financial institution in Washington has become concerned that their current membership \n",
    "base is not well-aligned with their corporate values. Through that concern they \n",
    "realized that don't actually understand their membership's values very well. They \n",
    "surveyed 2,421 members to shed light on the issue. \n",
    "\n",
    "The heart of the survey was the Moral Foundations Theory of Jonathan Haidt. Members \n",
    "were surveyed on the Moral Foundations Questionnaire, which you should take so you \n",
    "understand the test. Survey respondents were scored on the five foundations as well \n",
    "as a single-number summary, Progressivism. \n",
    "\n",
    "The financial institution values Localism, Sustainability, and Education. These aspects \n",
    "of member's values were assessed in the survey as well. Localism and Sustainability used\n",
    "validated scales and thus can be summarized via a single score, where higher values indicate\n",
    "greater support for the values. Education is summarized by the following three questions, \n",
    "which we do not have evidence can be combined into a single score:\n",
    "\n",
    "* In general, public schools provide a better education than private schools.\n",
    "* Public school teachers are underpaid.\n",
    "* Experience is more important than education in determining success in life.\n",
    "These questions were evaluated on a 1 to 6 scale where 1 indicated \"Strongly Disagree\" and \n",
    "6 indicated \"Strongly Agree\". \n",
    "\n",
    "Finally, we have information on the member that can be used to understand variation \n",
    "in their values. \n",
    "\n",
    "The data consists of the following columns:\n",
    "\n",
    "* ID: a unique identifier for the survey respondent.\n",
    "* age: the age of the respondent.\n",
    "* gender: gender was evaluated with robust scale and collapsed into male/female/other for \n",
    "  those whose gender identity was not male or female.\n",
    "* engagement: three categories of engagement with the financial institution.\n",
    "* mem.edu: the self-reported education level of the member with the following scale:\n",
    "* zip: the member zip code. \n",
    "* channel: how the member joined the financial institution. Options are \"Loan\" if they joined \n",
    "  via an auto loan, \"Branch\" if they joined at a branch and other for online or unknown. \n",
    "* progressivism/harm/fair/in.group/authority/purity: The MFQ results.\n",
    "* account.age: the age of the member's account, in years. \n",
    "* region: The region of Washington the member lives in. May be easier to work with than zip.\n",
    "* public.sector: has the person ever been a public employee?\n",
    "* sustainability/localism: Scores on the validated scales. Higher values indicate greater\n",
    "  support for the value.\n",
    "* pub.greater.priv/experience.more.important/teachers.underpaid: The responses to the \n",
    "  education questions above. \n",
    "* main.focal.value: Respondents were asked, \"Below is a list of broad areas to which people \n",
    "  often dedicate their volunteer or philanthropic efforts. From this list, please select the \n",
    "  most important to you. If an area of particular importance is missing, please let us know \n",
    "  about it in the space for 'other.'\" This column holds the respondents' answer to that question.\n",
    "* support.of.focal.value: Respondents were given an opportunity to indicate how they \n",
    "  supported their focal value. Those responses were collapsed into a single score, where \n",
    "  a higher value indicates more support.\n"
   ]
  }
 ],
 "metadata": {
  "kernelspec": {
   "display_name": "Python 3 (ipykernel)",
   "language": "python",
   "name": "python3"
  },
  "language_info": {
   "codemirror_mode": {
    "name": "ipython",
    "version": 3
   },
   "file_extension": ".py",
   "mimetype": "text/x-python",
   "name": "python",
   "nbconvert_exporter": "python",
   "pygments_lexer": "ipython3",
   "version": "3.8.8"
  }
 },
 "nbformat": 4,
 "nbformat_minor": 5
}
